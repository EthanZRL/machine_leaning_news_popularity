{
 "cells": [
  {
   "cell_type": "markdown",
   "metadata": {},
   "source": [
    "# ML Greop Project: Online News Popularity Predictor\n",
    "#### Group members: Ethan Lu 14724235, Grace Chang 14820056, Chi Kit Tin 14711079"
   ]
  },
  {
   "cell_type": "code",
   "execution_count": 8,
   "metadata": {},
   "outputs": [],
   "source": [
    "import matplotlib.pyplot as plt\n",
    "%matplotlib inline\n",
    "import numpy as np\n",
    "import pandas as pd\n",
    "from scipy.cluster import hierarchy\n",
    "from sklearn.decomposition import PCA\n",
    "from sklearn.model_selection import train_test_split, GridSearchCV\n",
    "from sklearn.svm import SVC\n",
    "from sklearn.preprocessing import StandardScaler, MinMaxScaler\n",
    "from sklearn.metrics import classification_report, accuracy_score\n",
    "from sklearn.svm import LinearSVC\n",
    "from sklearn.svm import OneClassSVM\n",
    "from sklearn.ensemble import IsolationForest\n",
    "from sklearn.pipeline import make_pipeline, Pipeline\n",
    "from sklearn.linear_model import LogisticRegression\n",
    "from sklearn.ensemble import RandomForestClassifier\n",
    "from sklearn.feature_selection import SelectFromModel\n",
    "from sklearn.metrics import silhouette_score\n",
    "from sklearn.cluster import DBSCAN\n",
    "import dash\n",
    "from dash import dcc, html\n",
    "import plotly.express as px"
   ]
  },
  {
   "cell_type": "code",
   "execution_count": null,
   "metadata": {},
   "outputs": [
    {
     "data": {
      "text/html": [
       "\n",
       "        <iframe\n",
       "            width=\"100%\"\n",
       "            height=\"650\"\n",
       "            src=\"http://127.0.0.1:8050/\"\n",
       "            frameborder=\"0\"\n",
       "            allowfullscreen\n",
       "            \n",
       "        ></iframe>\n",
       "        "
      ],
      "text/plain": [
       "<IPython.lib.display.IFrame at 0x126dab560>"
      ]
     },
     "metadata": {},
     "output_type": "display_data"
    }
   ],
   "source": [
    "# Load the dataset\n",
    "news_pop = pd.read_csv('/Users/ethanlu/Desktop/Machine Learning/Final/ML Group Project Datasets/Online News Popularity/OnlineNewsPopularity/OnlineNewsPopularity.csv', sep=',')\n",
    "news_pop.drop(['url'], axis=1, inplace=True)\n",
    "\n",
    "# Descriptive statistics\n",
    "descriptive_stats = news_pop.describe().reset_index()\n",
    "\n",
    "# Example visualizations\n",
    "fig_hist = px.histogram(news_pop, x=' shares', nbins=50, title=\"Distribution of Shares\")\n",
    "fig_corr = px.imshow(news_pop.corr(), title=\"Correlation Heatmap\")\n",
    "\n",
    "\n",
    "# Initialize the Dash app\n",
    "app = dash.Dash(__name__)\n",
    "\n",
    "# Define app layout\n",
    "app.layout = html.Div([\n",
    "    html.H1(\"Machine Learning Report Dashboard\"),\n",
    "    \n",
    "    # Section 1: Descriptive Statistics\n",
    "    html.Div([\n",
    "        html.H2(\"Descriptive Statistics\"),\n",
    "        dcc.Graph(figure=px.bar(descriptive_stats, x='index', y=' shares', title=\"Summary Statistics\"))\n",
    "    ]),\n",
    "    \n",
    "    # Section 2: Visualizations\n",
    "    html.Div([\n",
    "        html.H2(\"Visualizations\"),\n",
    "        html.Div([\n",
    "            html.H3(\"Target Distribution\"),\n",
    "            dcc.Graph(figure=fig_hist)\n",
    "        ]),\n",
    "        html.Div([\n",
    "            html.H3(\"Correlation Heatmap\"),\n",
    "            dcc.Graph(figure=fig_corr)\n",
    "        ])\n",
    "    ])\n",
    "])\n",
    "\n",
    "# Run the app\n",
    "if __name__ == '__main__':\n",
    "    app.run_server(debug=True)\n"
   ]
  }
 ],
 "metadata": {
  "kernelspec": {
   "display_name": "Python 3",
   "language": "python",
   "name": "python3"
  },
  "language_info": {
   "codemirror_mode": {
    "name": "ipython",
    "version": 3
   },
   "file_extension": ".py",
   "mimetype": "text/x-python",
   "name": "python",
   "nbconvert_exporter": "python",
   "pygments_lexer": "ipython3",
   "version": "3.12.1"
  }
 },
 "nbformat": 4,
 "nbformat_minor": 2
}
